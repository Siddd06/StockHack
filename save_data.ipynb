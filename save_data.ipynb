{
  "nbformat": 4,
  "nbformat_minor": 0,
  "metadata": {
    "colab": {
      "provenance": []
    },
    "kernelspec": {
      "name": "python3",
      "display_name": "Python 3"
    },
    "language_info": {
      "name": "python"
    }
  },
  "cells": [
    {
      "cell_type": "markdown",
      "source": [
        "Script to save the datasets as .csv files"
      ],
      "metadata": {
        "id": "TBEHmKiBwKjS"
      }
    },
    {
      "cell_type": "code",
      "execution_count": 2,
      "metadata": {
        "colab": {
          "base_uri": "https://localhost:8080/"
        },
        "id": "W4n-78OGd6Nd",
        "outputId": "adc57770-dd64-41a4-b8c4-74f16a1b98b5"
      },
      "outputs": [
        {
          "output_type": "stream",
          "name": "stderr",
          "text": [
            "[*********************100%***********************]  1 of 1 completed\n",
            "[*********************100%***********************]  1 of 1 completed\n",
            "[*********************100%***********************]  1 of 1 completed\n",
            "[*********************100%***********************]  1 of 1 completed\n",
            "[*********************100%***********************]  1 of 1 completed"
          ]
        },
        {
          "output_type": "stream",
          "name": "stdout",
          "text": [
            "Downloading data for CELH...\n",
            "Saved CELH_daily_data.csv\n",
            "Downloading data for CVNA...\n",
            "Saved CVNA_daily_data.csv\n",
            "Downloading data for UPST...\n",
            "Saved UPST_daily_data.csv\n",
            "Downloading data for ALT...\n",
            "Saved ALT_daily_data.csv\n",
            "Downloading data for FUBO...\n",
            "Saved FUBO_daily_data.csv\n",
            "Downloading data for CELH...\n"
          ]
        },
        {
          "output_type": "stream",
          "name": "stderr",
          "text": [
            "\n",
            "[*********************100%***********************]  1 of 1 completed\n",
            "[*********************100%***********************]  1 of 1 completed\n"
          ]
        },
        {
          "output_type": "stream",
          "name": "stdout",
          "text": [
            "Saved CELH data to CELH_hourly_data.csv\n",
            "Downloading data for CVNA...\n",
            "Saved CVNA data to CVNA_hourly_data.csv\n",
            "Downloading data for UPST...\n"
          ]
        },
        {
          "output_type": "stream",
          "name": "stderr",
          "text": [
            "[*********************100%***********************]  1 of 1 completed\n",
            "[*********************100%***********************]  1 of 1 completed"
          ]
        },
        {
          "output_type": "stream",
          "name": "stdout",
          "text": [
            "Saved UPST data to UPST_hourly_data.csv\n",
            "Downloading data for ALT...\n"
          ]
        },
        {
          "output_type": "stream",
          "name": "stderr",
          "text": [
            "\n",
            "\r[*********************100%***********************]  1 of 1 completed"
          ]
        },
        {
          "output_type": "stream",
          "name": "stdout",
          "text": [
            "Saved ALT data to ALT_hourly_data.csv\n",
            "Downloading data for FUBO...\n",
            "Saved FUBO data to FUBO_hourly_data.csv\n"
          ]
        },
        {
          "output_type": "stream",
          "name": "stderr",
          "text": [
            "\n"
          ]
        }
      ],
      "source": [
        "import yfinance as yf\n",
        "import pandas as pd\n",
        "\n",
        "tickers = [\"CELH\", \"CVNA\", \"UPST\", \"ALT\", \"FUBO\"]\n",
        "start_date = \"2019-01-01\"\n",
        "end_date = \"2025-02-23\"\n",
        "\n",
        "for ticker in tickers:\n",
        "    print(f\"Downloading data for {ticker}...\")\n",
        "    data = yf.download(ticker, start=start_date, end=end_date)\n",
        "    data.reset_index(inplace=True)\n",
        "    data.sort_values('Date', inplace=True)\n",
        "\n",
        "    csv_filename = f\"{ticker}_daily_data.csv\"\n",
        "    data.to_csv(csv_filename, index=False)\n",
        "    print(f\"Saved {csv_filename}\")\n",
        "\n",
        "\n",
        "tickers = [\"CELH\", \"CVNA\", \"UPST\", \"ALT\", \"FUBO\"]\n",
        "period = \"240d\"\n",
        "interval = \"60m\"\n",
        "\n",
        "for ticker in tickers:\n",
        "    print(f\"Downloading data for {ticker}...\")\n",
        "    data = yf.download(ticker, period=period, interval=interval)\n",
        "\n",
        "\n",
        "    data.reset_index(inplace=True)\n",
        "\n",
        "    filename = f\"{ticker}_hourly_data.csv\"\n",
        "    data.to_csv(filename, index=False)\n",
        "    print(f\"Saved {ticker} data to {filename}\")\n"
      ]
    }
  ]
}